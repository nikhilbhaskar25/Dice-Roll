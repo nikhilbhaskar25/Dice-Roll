{
 "cells": [
  {
   "cell_type": "code",
   "execution_count": null,
   "id": "d05d7b6d",
   "metadata": {},
   "outputs": [],
   "source": [
    "import random\n",
    "\n",
    "def roll_dice(num_dice):\n",
    "    rolls = []\n",
    "    for _ in range(num_dice):\n",
    "     rolls.append(random.randint(1, 6))\n",
    "    return rolls\n",
    "\n",
    "num_dice = int(input(\"How many dice do you want to roll? \"))\n",
    "results = roll_dice(num_dice)\n",
    "\n",
    "print(\"You rolled these numbers:\", results)"
   ]
  },
  {
   "cell_type": "code",
   "execution_count": null,
   "id": "31202cfb",
   "metadata": {},
   "outputs": [],
   "source": []
  }
 ],
 "metadata": {
  "kernelspec": {
   "display_name": "Python 3 (ipykernel)",
   "language": "python",
   "name": "python3"
  },
  "language_info": {
   "codemirror_mode": {
    "name": "ipython",
    "version": 3
   },
   "file_extension": ".py",
   "mimetype": "text/x-python",
   "name": "python",
   "nbconvert_exporter": "python",
   "pygments_lexer": "ipython3",
   "version": "3.11.5"
  }
 },
 "nbformat": 4,
 "nbformat_minor": 5
}
